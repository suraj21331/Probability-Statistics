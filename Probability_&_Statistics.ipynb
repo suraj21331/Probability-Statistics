{
 "cells": [
  {
   "cell_type": "markdown",
   "id": "5d55278a-8346-4c39-8b8c-8bf42e075d76",
   "metadata": {},
   "source": [
    "# Types Of Statistics "
   ]
  },
  {
   "cell_type": "markdown",
   "id": "05d15881-453c-48ad-84e5-432506f7d2bc",
   "metadata": {},
   "source": [
    "#### There are two types of statistics  \n",
    "### Desciptive Statistics & Inferential Statistics\n"
   ]
  },
  {
   "cell_type": "markdown",
   "id": "0bc014f3-846f-4eb5-bd8e-2482afc0432c",
   "metadata": {},
   "source": [
    "## What is Descriptive Statistics ?\n",
    "\n",
    "Descriptive statistics serves as the initial step in understanding and summarizing data.\n",
    "It involves organizing, visualizing, and summarizing raw data to create a coherent picture. \n",
    "\n",
    "##### Primary goal of desciptive statistics is to provide a clear and concise overview of the data's main features. "
   ]
  },
  {
   "cell_type": "markdown",
   "id": "33d484a3-d88d-43b2-99b1-adabc4da4f4a",
   "metadata": {},
   "source": [
    "### Key Aspects of Descriptive Statistics\n",
    "\n",
    "##### 1) Measure of Central Tendency \n",
    "##### 2) Measure of Dispersion \n",
    "##### 3) Visualizations "
   ]
  },
  {
   "cell_type": "markdown",
   "id": "968bc772-73a9-4e89-b75b-a7858d8297ef",
   "metadata": {},
   "source": [
    "### 1) Measure of Central Tendency :\n",
    "\n",
    "Desciptive statisctics inculde calculating the mean, median , and mode which offer insights into the centre of the data distribution. \n",
    "\n",
    "### 2) Measure of Dispresion :\n",
    "\n",
    "Variance , Standared deviation, and range help us understand the spread or variability of the data. \n",
    "\n",
    "### 3) Visualizations : \n",
    "\n",
    "Creating graphs, histograms, bar charts , and ppie charts visually represent the data's distribution and characteristics. "
   ]
  },
  {
   "cell_type": "markdown",
   "id": "35bdf4c4-a2b5-46c9-a280-c9a9baacadd0",
   "metadata": {},
   "source": [
    "# What is inferential Statistics ?\n",
    "\n",
    "Inferential statistics takes data analysis to the next level by drawing conclusions about populations based on a sample. It involves making predictions, generalizations, and hypotheses about a larger group using a smaller subset of data. \n",
    "\n",
    "Inferential statistics bridges the gap between our data and the conclusions we want to reach. This is particularly useful when obtaining data from an entire population is impractical or impossible. "
   ]
  },
  {
   "cell_type": "markdown",
   "id": "e7720d56-fe2f-4dbf-80c5-0e00c95d4420",
   "metadata": {},
   "source": [
    "### Key Aspects of Inferential Statistics\n",
    "\n",
    "#### 1) Sampling Techniques \n",
    "\n",
    "#### 2) Hypothesis Testing \n",
    "\n",
    "#### 3) Confidence Intervals \n",
    "\n",
    "#### 4) Regression Analysis "
   ]
  },
  {
   "cell_type": "markdown",
   "id": "c5dbefdb-636e-42d0-babe-c9b3774091e2",
   "metadata": {},
   "source": [
    "#### 1) Sampling Techniques : \n",
    "\n",
    " Infernetial statistics relies on carefully selecting representative samples from a population to make valid inferences. \n",
    "\n",
    "#### 2) Hypothesis Testing : \n",
    "\n",
    "This process involves setting up hypotheses about population characteristics and using sample data to determine if these hypotheses are statistically significant. \n",
    "\n",
    "\n",
    "#### 3) Confidence Intervals :\n",
    "\n",
    "These provide a range of values within which we’re confident a population parameter lies based on sample data.\n",
    "\n",
    "\n",
    "#### 4) Regression Analysis :\n",
    "\n",
    "Inferential statistics also encompass techniques like regression analysis to model relationships between variables and predict outcomes.\n"
   ]
  },
  {
   "cell_type": "markdown",
   "id": "551466d2-5585-427f-baf3-1914699630bc",
   "metadata": {},
   "source": [
    "### Now we will look at Descriptive Statistics in detail."
   ]
  },
  {
   "cell_type": "markdown",
   "id": "d3c9da88-0037-4066-9033-3c91a32878c6",
   "metadata": {},
   "source": [
    "# Descriptive Statistics Based on the Central Tendency of Data \n",
    "\n",
    "\n",
    "#### The central tendency of data is the center of the distribution of data. It describes the location of data and concentrates on where the data is located. The three most widely used measures of the “center” of the data are Mean, Median, and Mode."
   ]
  },
  {
   "cell_type": "markdown",
   "id": "f65b41c4-fe05-4256-9788-2853f19f94b9",
   "metadata": {},
   "source": [
    "# Mean "
   ]
  },
  {
   "cell_type": "markdown",
   "id": "e54a3d6d-a3bf-45fb-b6a8-e0f88d779482",
   "metadata": {},
   "source": [
    "The “Mean” is the average of the data. The average can be identified by summing up all the numbers and then dividing them by the number of observations.\r\n",
    "\r\n",
    "Mean = X1 + X2 + X3 +… +  Xn / n"
   ]
  },
  {
   "cell_type": "markdown",
   "id": "aff08547-fe11-493d-ab5c-1e328bc48a80",
   "metadata": {},
   "source": [
    "### Example\n",
    "\n",
    "Data - 10,20,30,40,50 and number of observation  = 5"
   ]
  },
  {
   "cell_type": "markdown",
   "id": "9913812c-d9e1-487d-8bfd-bc9adb524c8d",
   "metadata": {},
   "source": [
    "Mean = [ 10 + 20 + 30 + 40 + 50 ] / 5  "
   ]
  },
  {
   "cell_type": "markdown",
   "id": "4f1fcd81-abf2-4dd5-ab72-a7f5b8c0fd98",
   "metadata": {},
   "source": [
    "#### Mean = 30"
   ]
  },
  {
   "cell_type": "markdown",
   "id": "64f51cf9-8aaa-4e94-ae5f-2ceac57997f6",
   "metadata": {},
   "source": [
    "# Median"
   ]
  },
  {
   "cell_type": "markdown",
   "id": "e1fff7c9-3ac5-434a-9148-d069cd4e3b60",
   "metadata": {},
   "source": [
    "It is the 50th percentile of the data. In other words, it is exactly the center point of the data. The median can be identified by ordering the data, splitting it into two equal parts, and then finding the number in the middle. It is the best way to find the center of the data.\n",
    "\n",
    "Note that, in this case, the central tendency of the data is not affected by outliers."
   ]
  },
  {
   "cell_type": "markdown",
   "id": "258f3657-6e80-40b2-a450-8c641302f764",
   "metadata": {},
   "source": [
    "#### Example :"
   ]
  },
  {
   "cell_type": "markdown",
   "id": "28ea27af-a004-40c4-89e1-38242f42678d",
   "metadata": {},
   "source": [
    "Odd number of Data : 10,20,30,40,50 \n"
   ]
  },
  {
   "cell_type": "markdown",
   "id": "9701f791-4926-4c99-bd0e-ed4b9c1a9074",
   "metadata": {},
   "source": [
    "Median is 30. "
   ]
  },
  {
   "cell_type": "markdown",
   "id": "966f8523-7499-4410-a02a-5541eb57b3a2",
   "metadata": {},
   "source": [
    "Even the number of data - 10,20,30,40,50,60"
   ]
  },
  {
   "cell_type": "markdown",
   "id": "21743c54-b5ec-4fff-a087-f7a84b94fee7",
   "metadata": {},
   "source": [
    "Find the middle 2 data and take the mean of those two values"
   ]
  },
  {
   "cell_type": "markdown",
   "id": "1f619d7f-12a8-4f50-9b46-f6c43b83f02b",
   "metadata": {},
   "source": [
    "Here 30 and 40 are middle values"
   ]
  },
  {
   "cell_type": "markdown",
   "id": "83067c7a-b397-4458-adc6-dfd9a2449fc1",
   "metadata": {},
   "source": [
    "Now, add them and divide the result by 2 "
   ]
  },
  {
   "cell_type": "markdown",
   "id": "376ffc16-1931-40f8-b60b-4032d4f2a3af",
   "metadata": {},
   "source": [
    " 30 + 40 / 2 = 35"
   ]
  },
  {
   "cell_type": "markdown",
   "id": "cae0dcda-2bbc-4d4e-a2a0-b93ae6c2dd3a",
   "metadata": {},
   "source": [
    "#### Median is 35"
   ]
  },
  {
   "cell_type": "markdown",
   "id": "43f8a695-3e42-43ab-942c-0da3a5156260",
   "metadata": {},
   "source": [
    "# Mode "
   ]
  },
  {
   "cell_type": "markdown",
   "id": "423cf026-8dce-4182-b1a4-9548373be0af",
   "metadata": {},
   "source": [
    "The mode of the data is the most frequently occurring data or elements in a dataset. If an element occurs the highest number of times, it is the mode of that data. If no number in the data is repeated, then that data has no mode. There can be more than one mode in a dataset if two values have the same frequency, which is also the highest frequency.\r\n",
    "\r\n",
    "Outliers don’t influence the data in this case. The mode can be calculated for both quantitative and qualitative data."
   ]
  },
  {
   "cell_type": "markdown",
   "id": "f66bb6c1-1699-4212-8f76-906b2ec23652",
   "metadata": {},
   "source": [
    "# Example :"
   ]
  },
  {
   "cell_type": "markdown",
   "id": "f8b38721-1590-4760-b800-cf067dde08e2",
   "metadata": {},
   "source": [
    "Data - 1,3,4,6,7,3,3,5,10,3"
   ]
  },
  {
   "cell_type": "markdown",
   "id": "3e26bd43-d2df-4131-ba35-a7a1c82fb2a9",
   "metadata": {},
   "source": [
    "Mode is 3 , because 3 has the highest frequency (4 times)"
   ]
  },
  {
   "cell_type": "markdown",
   "id": "7f105c21-5e4f-4d79-b07b-b31bd2fe7b8c",
   "metadata": {},
   "source": [
    "# What are Outliers ?"
   ]
  },
  {
   "cell_type": "markdown",
   "id": "ed12add1-bb81-4a44-9298-86b249f30f10",
   "metadata": {},
   "source": [
    "The central tendency of the data may be influenced by outliers. You may now ask, ‘What are outliers?‘ Well, outliers are extreme behaviors. An outlier is a data point that differs significantly from other observations. It can cause serious problems in analysis."
   ]
  },
  {
   "cell_type": "markdown",
   "id": "2598ea2c-15db-40bb-a498-33c2c06c0e1b",
   "metadata": {},
   "source": [
    "if we have weather forecasting data in that data for example following tempraturs are there"
   ]
  },
  {
   "cell_type": "markdown",
   "id": "1e4b0879-0562-4a23-aba8-d1ec00d5d3f4",
   "metadata": {},
   "source": [
    "Temp = 70 F , 72 F, 69 F, 300 F, 73 F , 73 F, 68 F , 73 F  "
   ]
  },
  {
   "cell_type": "markdown",
   "id": "648ed878-1142-4307-b040-077068f61caf",
   "metadata": {},
   "source": [
    "So outlier is 300 F "
   ]
  },
  {
   "cell_type": "markdown",
   "id": "7d5d1a11-727d-44d2-924e-9524b71dfa94",
   "metadata": {},
   "source": [
    "# Description Statistics Based on the Dispersion of Data "
   ]
  },
  {
   "cell_type": "markdown",
   "id": "ef704d0f-6bba-4907-8a6f-0c9d951c6397",
   "metadata": {},
   "source": [
    "The dispersion is the spread of the data. It measures how far the data is spread.In most of the dataset, the data values are closely located near the mean. The values are widely spread out of the mean on some other datasets. These dispersions of the data can be measured by the inter Quartil Range(IQR) , range , standard deviation and variance of the data. "
   ]
  },
  {
   "cell_type": "markdown",
   "id": "0261679a-3041-441c-83db-a525bb8c3a92",
   "metadata": {},
   "source": [
    "# Inter Quartile Range(IQR)"
   ]
  },
  {
   "cell_type": "markdown",
   "id": "b622826a-3d47-4a85-9a58-672a9e0ed7a5",
   "metadata": {},
   "source": [
    "Quratiles are special percentiles \n",
    "\n",
    "1st Quartile Q1 is the same as the 25th percentile\n",
    "\n",
    "2nd Quartile Q2 is the same as 50th percentile.\n",
    "\n",
    "3rd Quartile Q3 is same as 75th percentile."
   ]
  },
  {
   "cell_type": "markdown",
   "id": "86c92c66-b3dd-4e4a-9b2e-569d890fdd6e",
   "metadata": {},
   "source": [
    "#### Steps to find quartile and percentile \n",
    "\n",
    "The data should be sorted and ordered from the smallest to the largest.\n",
    "\n",
    "The Quartiles, ordered data is divided into 4 equal parts \n",
    "\n",
    "For Percentile , ordered data is divided into 100 equal parts\n",
    "\n",
    "\n"
   ]
  },
  {
   "cell_type": "markdown",
   "id": "aee5b3af-94de-4049-b14d-6791e3f2c5a2",
   "metadata": {},
   "source": [
    "#### The inter Qurtile Range is the difference between the thired quartile (Q3) and the first Quartile(Q1)\n",
    "\n",
    "#### IQR = Q3 - Q1"
   ]
  },
  {
   "cell_type": "markdown",
   "id": "4ea4ac79-48fd-482a-ad5b-4f2a39c51b27",
   "metadata": {},
   "source": [
    "### Range\n",
    "\n",
    "The range is the difference between the largest and the smallest value in the data."
   ]
  },
  {
   "cell_type": "markdown",
   "id": "8ec6e8b9-7ad5-4ed9-99e4-21377ff4ce6d",
   "metadata": {},
   "source": [
    "### Standared Deviation\n",
    "\n",
    "The most common measure of spread is the standard deviation . The standard deviation measure how far the data deviates from the mean value. The standard deviation formula varies for population and sample. Both formulas are smiliar but not the same. \n",
    "\n",
    "Symbol used for Sample standard deviation - \"s\" (lowercase)\n",
    "\n",
    "Symbol uused for Population Standard deviation =  “ σ ” (Sigma , lower case) "
   ]
  },
  {
   "cell_type": "markdown",
   "id": "0383cbdf-eece-40c0-9eb3-743653c2df71",
   "metadata": {},
   "source": [
    "#### Steps to Find the Standard Deviation"
   ]
  },
  {
   "cell_type": "markdown",
   "id": "5f3eb1a4-1b9c-444e-87b5-a500b4742135",
   "metadata": {},
   "source": [
    "If x is a number, then the difference \" x - mean \" is its deviation. The deviations are used to calculate the standard deviation. \n",
    "\n",
    "Sample Standard Deviation, s = Square root of sample variance \n",
    "\n",
    "Sample Standard Deviation, s = Square root of   [Σ(x − x ¯ )2/ n-1]   where x ¯ is average and n is  no. of samples"
   ]
  },
  {
   "cell_type": "markdown",
   "id": "831c1012-5f9f-4f3b-a883-bcfc9210e44d",
   "metadata": {},
   "source": [
    "<div style=\"text-align:center;\">\r\n",
    "    <img src=\"https://editor.analyticsvidhya.com/uploads/80215Copy%20of%20Untitled%20(7).png\" alt=\"Standard Deviation\" width=520\">\r\n",
    "</div>\r\n",
    "\n"
   ]
  },
  {
   "cell_type": "markdown",
   "id": "24a8611f-e5b3-48e1-b0d6-5411605cd2fd",
   "metadata": {},
   "source": [
    "Population Standard Deviation, σ = Square root of population variance\n",
    "\r\n",
    "Population Standard Deviation, σ = Square root of  [ Σ(x − μ)2 / N ] where μ is Mean and N is no.of population."
   ]
  },
  {
   "cell_type": "markdown",
   "id": "ec351ed0-689e-4e66-bc9c-359c635b053c",
   "metadata": {},
   "source": [
    "<div\n",
    "    style = \"text-align:center;\">\n",
    "    <img\n",
    "src = \"https://editor.analyticsvidhya.com/uploads/70753Copy%20of%20Untitled%20(6).png\"\n",
    "alt = \"Standard Deviation for Population\" width=\"525\"\n",
    "</div>"
   ]
  },
  {
   "cell_type": "markdown",
   "id": "83f7242e-150d-49ea-91e8-58d602407106",
   "metadata": {},
   "source": [
    "##### The standard deviation is always positive or zero. It will be large when the data values are spread out from the mean."
   ]
  },
  {
   "cell_type": "markdown",
   "id": "d41dfafa-2060-4159-b876-047f45b7e8dd",
   "metadata": {},
   "source": [
    "### Variance \n",
    "\n",
    "The variance is a measure of variability. It is the average squared deviation from the mean. The symbol σ2 represents the population variance, and the symbol for s2 represents sample variance.\n",
    "\n",
    "Population variance σ2 =  [ Σ(x − μ)2 / N ]\n",
    "\n",
    "Sample Variance  s2  =  [ Σ(x − x ¯ )2/ n-1 ]"
   ]
  },
  {
   "cell_type": "markdown",
   "id": "4d4bbc73-cf86-459d-8d91-5d858fa303e8",
   "metadata": {},
   "source": [
    "<div style = \"text-align:center;\">\n",
    "<img src = \"https://editor.analyticsvidhya.com/uploads/24765Copy%20of%20Untitled%20(8).png\" \n",
    "width = \"525\"\n",
    "    </div>"
   ]
  },
  {
   "cell_type": "markdown",
   "id": "82c54a0c-07e7-4f0b-87ce-e019d15f08ab",
   "metadata": {},
   "source": [
    "### Descriptive Statistics Based on the Shape of the Data\n",
    "\n",
    "The shape of the data is important because deciding the probability of data is based on its shape. The shape describes the type of the graph\n"
   ]
  },
  {
   "cell_type": "markdown",
   "id": "532ba4c6-1f55-447c-8f58-490d6e59f3c8",
   "metadata": {},
   "source": [
    "<div style = \"text-align:center;\">\n",
    "<img src = \"https://editor.analyticsvidhya.com/uploads/57820Copy%20of%20Untitled%20(9).png\"\n",
    "width = \"525\"\n",
    "    </div>"
   ]
  },
  {
   "cell_type": "markdown",
   "id": "89a60b1a-6ed5-4304-a8c3-d0f5ba8d2704",
   "metadata": {},
   "source": [
    "The shape of the data can be measured by three methodologies: symmetric, skewness, kurtosis"
   ]
  },
  {
   "cell_type": "markdown",
   "id": "d1f6bdbf-f7e3-4d1a-9a14-b14f7fab7675",
   "metadata": {},
   "source": [
    "# Symmetric\n",
    "\n",
    "In the symmetric shape of the graph, the data is distributed the same on both sides.\n",
    "\n",
    "#### In symmetric data, the mean and median are located close together. \n",
    "\n",
    "The curve formed by this symmetric graph is called a normal curve."
   ]
  },
  {
   "cell_type": "markdown",
   "id": "096a3fae-689e-4997-96a5-6d0876623a57",
   "metadata": {},
   "source": [
    "<div style = \"text-align:center;\" >\n",
    "    <img src = \"https://editor.analyticsvidhya.com/uploads/61915Copy%20of%20Untitled%20(10).png\" \n",
    "        width = \"525\"\n",
    "</div>"
   ]
  },
  {
   "cell_type": "markdown",
   "id": "70e1d3f1-873b-44e2-8128-f56610a66a2c",
   "metadata": {},
   "source": [
    "# Skweness \n",
    "\n",
    "Skewness is the measure of the asymmetry of the distribution of data. The data is not symmetrical (i.e.) it is skewed towards one side. Skewness is classified into two types: positive skew and negative skew.\n",
    "\n",
    "\n",
    "#### Positively skewed: \n",
    "In a Positively skewed distribution, the data values are clustered around the left side of the distribution, and the right side is longer. The mean and median will be greater than the mode in the positive skew.\n",
    "\n",
    "\n",
    "#### Negatively skewed: \n",
    "In a Negatively skewed distribution, the data values are clustered around the right side of the distribution, and the left side is longer. The mean and median will be less than the mode."
   ]
  },
  {
   "cell_type": "markdown",
   "id": "cb3235ec-83cb-44ac-a64c-314213df5a31",
   "metadata": {},
   "source": [
    "<div style = \"text-align:center;\">\n",
    "<img src = \"https://editor.analyticsvidhya.com/uploads/90404Copy%20of%20Untitled%20(11).png\"\n",
    "width = \"525\"\n",
    "    </div>"
   ]
  },
  {
   "cell_type": "markdown",
   "id": "bb720eea-36a4-4dff-bad4-34077ba0a587",
   "metadata": {},
   "source": [
    "# Kurtosis\n",
    "\n",
    "Kurtosis is the measure of describing the distribution of data. This data is distributed in three different ways: platykurtic, mesokurtic, and leptokurtic.\n",
    "\n"
   ]
  },
  {
   "cell_type": "markdown",
   "id": "915326bf-76cf-4356-848a-1daffdd5da4c",
   "metadata": {},
   "source": [
    "<div style = \"text-align:center;\" >\n",
    "<img src = \"https://editor.analyticsvidhya.com/uploads/29049Copy%20of%20Untitled%20(12).png\" \n",
    "    width = 525\n",
    "</div>"
   ]
  },
  {
   "cell_type": "markdown",
   "id": "c92ac257-9c0e-4025-aa9a-859e28c6e8c9",
   "metadata": {},
   "source": [
    "#### Platykurtic:\n",
    "\n",
    "The platykurtic shows a distribution with flat tails. Here, the data is distributed fairly. The flat tails indicated the small outliers in the distribution.\n",
    "\n",
    "<div style = \"text-align:center;\">\n",
    "<img src = \"https://editor.analyticsvidhya.com/uploads/43196Copy%20of%20Untitled%20(13).png\"\n",
    "width = 525\n",
    ">\n",
    "</div>\n",
    "\n",
    "#### Mesokurtic: \n",
    "\n",
    "In Mesokurtic, the data is widely distributed. It is normally distributed, and it also matches normal distribution.\r\n",
    "<div style = \"text-align:center;\">\n",
    "<img src = \"https://editor.analyticsvidhya.com/uploads/29522Copy%20of%20Untitled%20(14).png\"\n",
    "width = 525\n",
    ">\n",
    "</div>\n",
    "\n",
    "#### Leptokurtic: \n",
    "\n",
    "In leptokurtic, the data is very closely distributed. The height of the peak is greater than the width of the peak.\n",
    "\n",
    "<div style = \"text-align:center;\">\n",
    "<img src = \"https://editor.analyticsvidhya.com/uploads/63987Copy%20of%20Untitled%20(15).png\"\n",
    "width = 525 \n",
    ">\n",
    "</div>\n",
    "\n"
   ]
  },
  {
   "cell_type": "markdown",
   "id": "f27d5812-e3b6-4ad9-a55c-4860866a7620",
   "metadata": {},
   "source": [
    "# Univariate Data vs. Bivariate Data in Descriptive Statistics\n",
    "\n",
    "When it comes to delving into the world of data analysis, two key terms you’re likely to encounter are “univariate” and “bivariate.” These terms are crucial in descriptive statistics, as they help us categorize and understand the data types we’re working with. Whether you’re deciphering the properties of individual data points or unraveling the intricate dance between two variables, the concepts of univariate and bivariate data provide the foundation for insightful data analysis.\n",
    "\n",
    "the key difference between univariate and bivariate data lies in the focus of analysis. Univariate analysis centers on understanding the characteristics of a single variable, while bivariate analysis explores connections and interactions between two variables. Let’s break down the differences between univariate and bivariate data to better grasp their significance.\n"
   ]
  },
  {
   "cell_type": "markdown",
   "id": "440e27f2-32f6-4914-a164-1d34351de60b",
   "metadata": {},
   "source": [
    "### Univariate Data\n",
    "\n",
    "Univariate data focuses on a single variable, essentially spotlighting one aspect of your data. In this scenario, you’re interested in studying the distribution, central tendency, and dispersion of a single set of values. For instance, if you’re analyzing the heights of a group of individuals, you’re dealing with univariate data. Here, the variable of interest is height, and you aim to uncover insights about that specific characteristic.\n",
    "\n",
    "In univariate analysis, you’re often looking at measures like:\n",
    "\n",
    "#### Measures of Central Tendency: \n",
    "\n",
    "Mean, median, and mode provide insights into where the center of the data lies.\n",
    "\n",
    "#### Measures of Dispersion: \n",
    "\n",
    "Range, variance, and standard deviation help you understand how spread out the data is.\n",
    "\n",
    "#### Frequency Distribution: \n",
    "\n",
    "Creating histograms, bar charts, and pie charts allows you to visualize the data’s distribution.\n"
   ]
  },
  {
   "cell_type": "markdown",
   "id": "4f454fe7-cdf7-4853-8b68-43524b3b1df4",
   "metadata": {},
   "source": [
    "### Univariate Data\n",
    "\n",
    "Univariate data focuses on a single variable, essentially spotlighting one aspect of your data. In this scenario, you’re interested in studying the distribution, central tendency, and dispersion of a single set of values. For instance, if you’re analyzing the heights of a group of individuals, you’re dealing with univariate data. Here, the variable of interest is height, and you aim to uncover insights about that specific characteristic.\n",
    "\n",
    "In univariate analysis, you’re often looking at measures like:\n",
    "\n",
    "#### Measures of Central Tendency: \n",
    "\n",
    "Mean, median, and mode provide insights into where the center of the data lies.\n",
    "\n",
    "#### Measures of Dispersion: \n",
    "\n",
    "Range, variance, and standard deviation help you understand how spread out the data is.\n",
    "\n",
    "#### Frequency Distribution: \n",
    "\n",
    "Creating histograms, bar charts, and pie charts allows you to visualize the data’s distribution.\n"
   ]
  },
  {
   "cell_type": "markdown",
   "id": "28e8f98b-7825-492b-989b-465534a55d8e",
   "metadata": {},
   "source": [
    "### Bivariate Data\n",
    "\n",
    "\n",
    "Bivariate data, on the other hand, adds an extra layer of complexity to your analysis by involving two variables. Here, you’re not just interested in understanding individual characteristics; you’re also keen on uncovering relationships and patterns between two different variables. For example, if you’re examining the relationship between hours of study and exam scores, you’re working with bivariate data. The goal is to determine whether changes in one variable (study hours) have an impact on another (exam scores)\n",
    "\n",
    "\n",
    "\n",
    "Bivariate analysis often involves techniques such as:\n",
    "\n",
    "\n",
    "\n",
    "#### Scatter Plots: \n",
    "\n",
    "These visualizations showcase the relationship between two variables, with each data point plotted on the graph\n",
    "\n",
    "#### Correlation: \n",
    "\n",
    "Calculating correlation coefficients helps you quantify the strength and direction of the relationship between variables\n",
    "\n",
    "#### Regression Analysis:\n",
    "\n",
    " This technique allows you to model the relationship between variables, predicting the outcome of one based on the other\n"
   ]
  },
  {
   "cell_type": "markdown",
   "id": "728ca935-1f8b-4ebe-9f09-ffa576dcda7b",
   "metadata": {},
   "source": [
    "<div style = \"text-align:right;\">\n",
    "\n",
    "<img src=\"data:image/png;base64, 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\" alt=\"Watermark\" width=\"200\">\r\n"
   ]
  }
 ],
 "metadata": {
  "kernelspec": {
   "display_name": "Python 3 (ipykernel)",
   "language": "python",
   "name": "python3"
  },
  "language_info": {
   "codemirror_mode": {
    "name": "ipython",
    "version": 3
   },
   "file_extension": ".py",
   "mimetype": "text/x-python",
   "name": "python",
   "nbconvert_exporter": "python",
   "pygments_lexer": "ipython3",
   "version": "3.9.18"
  }
 },
 "nbformat": 4,
 "nbformat_minor": 5
}
