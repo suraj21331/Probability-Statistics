{
 "cells": [
  {
   "cell_type": "markdown",
   "id": "5d55278a-8346-4c39-8b8c-8bf42e075d76",
   "metadata": {},
   "source": [
    "# Types Of Statistics "
   ]
  },
  {
   "cell_type": "markdown",
   "id": "05d15881-453c-48ad-84e5-432506f7d2bc",
   "metadata": {},
   "source": [
    "#### There are two types of statistics  \n",
    "### Desciptive Statistics & Inferential Statistics\n"
   ]
  },
  {
   "cell_type": "markdown",
   "id": "0bc014f3-846f-4eb5-bd8e-2482afc0432c",
   "metadata": {},
   "source": [
    "## What is Descriptive Statistics ?\n",
    "\n",
    "Descriptive statistics serves as the initial step in understanding and summarizing data.\n",
    "It involves organizing, visualizing, and summarizing raw data to create a coherent picture. \n",
    "\n",
    "##### Primary goal of desciptive statistics is to provide a clear and concise overview of the data's main features. "
   ]
  },
  {
   "cell_type": "markdown",
   "id": "33d484a3-d88d-43b2-99b1-adabc4da4f4a",
   "metadata": {},
   "source": [
    "### Key Aspects of Descriptive Statistics\n",
    "\n",
    "##### 1) Measure of Central Tendency \n",
    "##### 2) Measure of Dispersion \n",
    "##### 3) Visualizations "
   ]
  },
  {
   "cell_type": "markdown",
   "id": "968bc772-73a9-4e89-b75b-a7858d8297ef",
   "metadata": {},
   "source": [
    "### 1) Measure of Central Tendency :\n",
    "\n",
    "Desciptive statisctics inculde calculating the mean, median , and mode which offer insights into the centre of the data distribution. \n",
    "\n",
    "### 2) Measure of Dispresion :\n",
    "\n",
    "Variance , Standared deviation, and range help us understand the spread or variability of the data. \n",
    "\n",
    "### 3) Visualizations : \n",
    "\n",
    "Creating graphs, histograms, bar charts , and ppie charts visually represent the data's distribution and characteristics. "
   ]
  },
  {
   "cell_type": "markdown",
   "id": "35bdf4c4-a2b5-46c9-a280-c9a9baacadd0",
   "metadata": {},
   "source": [
    "# What is inferential Statistics ?\n",
    "\n",
    "Inferential statistics takes data analysis to the next level by drawing conclusions about populations based on a sample. It involves making predictions, generalizations, and hypotheses about a larger group using a smaller subset of data. \n",
    "\n",
    "Inferential statistics bridges the gap between our data and the conclusions we want to reach. This is particularly useful when obtaining data from an entire population is impractical or impossible. "
   ]
  },
  {
   "cell_type": "markdown",
   "id": "e7720d56-fe2f-4dbf-80c5-0e00c95d4420",
   "metadata": {},
   "source": [
    "### Key Aspects of Inferential Statistics\n",
    "\n",
    "#### 1) Sampling Techniques \n",
    "\n",
    "#### 2) Hypothesis Testing \n",
    "\n",
    "#### 3) Confidence Intervals \n",
    "\n",
    "#### 4) Regression Analysis "
   ]
  },
  {
   "cell_type": "markdown",
   "id": "c5dbefdb-636e-42d0-babe-c9b3774091e2",
   "metadata": {},
   "source": [
    "#### 1) Sampling Techniques : \n",
    "\n",
    " Infernetial statistics relies on carefully selecting representative samples from a population to make valid inferences. \n",
    "\n",
    "#### 2) Hypothesis Testing : \n",
    "\n",
    "This process involves setting up hypotheses about population characteristics and using sample data to determine if these hypotheses are statistically significant. \n",
    "\n",
    "\n",
    "#### 3) Confidence Intervals :\n",
    "\n",
    "These provide a range of values within which we’re confident a population parameter lies based on sample data.\n",
    "\n",
    "\n",
    "#### 4) Regression Analysis :\n",
    "\n",
    "Inferential statistics also encompass techniques like regression analysis to model relationships between variables and predict outcomes.\n"
   ]
  },
  {
   "cell_type": "markdown",
   "id": "39b04577-7b39-4522-a8b2-80df3ccce908",
   "metadata": {},
   "source": [
    "### ======================================================================="
   ]
  },
  {
   "cell_type": "markdown",
   "id": "551466d2-5585-427f-baf3-1914699630bc",
   "metadata": {},
   "source": [
    "### Now we will look at Descriptive Statistics in detail."
   ]
  },
  {
   "cell_type": "markdown",
   "id": "d3c9da88-0037-4066-9033-3c91a32878c6",
   "metadata": {},
   "source": [
    "# Descriptive Statistics Based on the Central Tendency of Data \n",
    "\n",
    "\n",
    "#### The central tendency of data is the center of the distribution of data. It describes the location of data and concentrates on where the data is located. The three most widely used measures of the “center” of the data are Mean, Median, and Mode."
   ]
  },
  {
   "cell_type": "markdown",
   "id": "f65b41c4-fe05-4256-9788-2853f19f94b9",
   "metadata": {},
   "source": [
    "# Mean "
   ]
  },
  {
   "cell_type": "markdown",
   "id": "e54a3d6d-a3bf-45fb-b6a8-e0f88d779482",
   "metadata": {},
   "source": [
    "The “Mean” is the average of the data. The average can be identified by summing up all the numbers and then dividing them by the number of observations.\r\n",
    "\r\n",
    "Mean = X1 + X2 + X3 +… +  Xn / n"
   ]
  },
  {
   "cell_type": "markdown",
   "id": "aff08547-fe11-493d-ab5c-1e328bc48a80",
   "metadata": {},
   "source": [
    "### Example\n",
    "\n",
    "Data - 10,20,30,40,50 and number of observation  = 5"
   ]
  },
  {
   "cell_type": "markdown",
   "id": "9913812c-d9e1-487d-8bfd-bc9adb524c8d",
   "metadata": {},
   "source": [
    "Mean = [ 10 + 20 + 30 + 40 + 50 ] / 5  "
   ]
  },
  {
   "cell_type": "markdown",
   "id": "4f1fcd81-abf2-4dd5-ab72-a7f5b8c0fd98",
   "metadata": {},
   "source": [
    "#### Mean = 30"
   ]
  },
  {
   "cell_type": "markdown",
   "id": "74c9e376-ca9a-4d37-bad7-7ce305ec4a30",
   "metadata": {},
   "source": [
    "#### ******************************************************************** OOOOOOOOOO ***************************************"
   ]
  },
  {
   "cell_type": "markdown",
   "id": "64f51cf9-8aaa-4e94-ae5f-2ceac57997f6",
   "metadata": {},
   "source": [
    "# Median"
   ]
  },
  {
   "cell_type": "markdown",
   "id": "e1fff7c9-3ac5-434a-9148-d069cd4e3b60",
   "metadata": {},
   "source": [
    "It is the 50th percentile of the data. In other words, it is exactly the center point of the data. The median can be identified by ordering the data, splitting it into two equal parts, and then finding the number in the middle. It is the best way to find the center of the data.\n",
    "\n",
    "Note that, in this case, the central tendency of the data is not affected by outliers."
   ]
  },
  {
   "cell_type": "markdown",
   "id": "258f3657-6e80-40b2-a450-8c641302f764",
   "metadata": {},
   "source": [
    "#### Example :"
   ]
  },
  {
   "cell_type": "markdown",
   "id": "28ea27af-a004-40c4-89e1-38242f42678d",
   "metadata": {},
   "source": [
    "Odd number of Data : 10,20,30,40,50 \n"
   ]
  },
  {
   "cell_type": "markdown",
   "id": "9701f791-4926-4c99-bd0e-ed4b9c1a9074",
   "metadata": {},
   "source": [
    "Median is 30. "
   ]
  },
  {
   "cell_type": "markdown",
   "id": "966f8523-7499-4410-a02a-5541eb57b3a2",
   "metadata": {},
   "source": [
    "Even the number of data - 10,20,30,40,50,60"
   ]
  },
  {
   "cell_type": "markdown",
   "id": "21743c54-b5ec-4fff-a087-f7a84b94fee7",
   "metadata": {},
   "source": [
    "Find the middle 2 data and take the mean of those two values"
   ]
  },
  {
   "cell_type": "markdown",
   "id": "1f619d7f-12a8-4f50-9b46-f6c43b83f02b",
   "metadata": {},
   "source": [
    "Here 30 and 40 are middle values"
   ]
  },
  {
   "cell_type": "markdown",
   "id": "83067c7a-b397-4458-adc6-dfd9a2449fc1",
   "metadata": {},
   "source": [
    "Now, add them and divide the result by 2 "
   ]
  },
  {
   "cell_type": "markdown",
   "id": "376ffc16-1931-40f8-b60b-4032d4f2a3af",
   "metadata": {},
   "source": [
    " 30 + 40 / 2 = 35"
   ]
  },
  {
   "cell_type": "markdown",
   "id": "cae0dcda-2bbc-4d4e-a2a0-b93ae6c2dd3a",
   "metadata": {},
   "source": [
    "#### Median is 35"
   ]
  },
  {
   "cell_type": "markdown",
   "id": "fdd85906-ef32-4d40-8880-705c642b867d",
   "metadata": {},
   "source": [
    " ##### =============================================== *********** =============================================="
   ]
  },
  {
   "cell_type": "markdown",
   "id": "43f8a695-3e42-43ab-942c-0da3a5156260",
   "metadata": {},
   "source": [
    "# Mode "
   ]
  },
  {
   "cell_type": "markdown",
   "id": "423cf026-8dce-4182-b1a4-9548373be0af",
   "metadata": {},
   "source": [
    "The mode of the data is the most frequently occurring data or elements in a dataset. If an element occurs the highest number of times, it is the mode of that data. If no number in the data is repeated, then that data has no mode. There can be more than one mode in a dataset if two values have the same frequency, which is also the highest frequency.\r\n",
    "\r\n",
    "Outliers don’t influence the data in this case. The mode can be calculated for both quantitative and qualitative data."
   ]
  },
  {
   "cell_type": "markdown",
   "id": "f66bb6c1-1699-4212-8f76-906b2ec23652",
   "metadata": {},
   "source": [
    "# Example :"
   ]
  },
  {
   "cell_type": "markdown",
   "id": "f8b38721-1590-4760-b800-cf067dde08e2",
   "metadata": {},
   "source": [
    "Data - 1,3,4,6,7,3,3,5,10,3"
   ]
  },
  {
   "cell_type": "markdown",
   "id": "3e26bd43-d2df-4131-ba35-a7a1c82fb2a9",
   "metadata": {},
   "source": [
    "Mode is 3 , because 3 has the highest frequency (4 times)"
   ]
  },
  {
   "cell_type": "markdown",
   "id": "7f105c21-5e4f-4d79-b07b-b31bd2fe7b8c",
   "metadata": {},
   "source": [
    "# What are Outliers ?"
   ]
  },
  {
   "cell_type": "markdown",
   "id": "ed12add1-bb81-4a44-9298-86b249f30f10",
   "metadata": {},
   "source": [
    "The central tendency of the data may be influenced by outliers. You may now ask, ‘What are outliers?‘ Well, outliers are extreme behaviors. An outlier is a data point that differs significantly from other observations. It can cause serious problems in analysis."
   ]
  },
  {
   "cell_type": "markdown",
   "id": "2598ea2c-15db-40bb-a498-33c2c06c0e1b",
   "metadata": {},
   "source": [
    "if we have weather forecasting data in that data for example following tempraturs are there"
   ]
  },
  {
   "cell_type": "markdown",
   "id": "1e4b0879-0562-4a23-aba8-d1ec00d5d3f4",
   "metadata": {},
   "source": [
    "Temp = 70 F , 72 F, 69 F, 300 F, 73 F , 73 F, 68 F , 73 F  "
   ]
  },
  {
   "cell_type": "markdown",
   "id": "648ed878-1142-4307-b040-077068f61caf",
   "metadata": {},
   "source": [
    "So outlier is 300 F "
   ]
  },
  {
   "cell_type": "markdown",
   "id": "905134dd-2540-4a7a-8b80-7015f8a9aff8",
   "metadata": {},
   "source": [
    "##### =========================================oooooo==============================================="
   ]
  },
  {
   "cell_type": "markdown",
   "id": "7d5d1a11-727d-44d2-924e-9524b71dfa94",
   "metadata": {},
   "source": [
    "# Description Statistics Based on the Dispersion of Data "
   ]
  },
  {
   "cell_type": "markdown",
   "id": "ef704d0f-6bba-4907-8a6f-0c9d951c6397",
   "metadata": {},
   "source": [
    "The dispersion is the spread of the data. It measures how far the data is spread.In most of the dataset, the data values are closely located near the mean. The values are widely spread out of the mean on some other datasets. These dispersions of the data can be measured by the inter Quartil Range(IQR) , range , standard deviation and variance of the data. "
   ]
  },
  {
   "cell_type": "markdown",
   "id": "0261679a-3041-441c-83db-a525bb8c3a92",
   "metadata": {},
   "source": [
    "# Inter Quartile Range(IQR)"
   ]
  },
  {
   "cell_type": "markdown",
   "id": "b622826a-3d47-4a85-9a58-672a9e0ed7a5",
   "metadata": {},
   "source": [
    "Quratiles are special percentiles \n",
    "\n",
    "1st Quartile Q1 is the same as the 25th percentile\n",
    "\n",
    "2nd Quartile Q2 is the same as 50th percentile.\n",
    "\n",
    "3rd Quartile Q3 is same as 75th percentile."
   ]
  },
  {
   "cell_type": "markdown",
   "id": "86c92c66-b3dd-4e4a-9b2e-569d890fdd6e",
   "metadata": {},
   "source": [
    "#### Steps to find quartile and percentile \n",
    "\n",
    "The data should be sorted and ordered from the smallest to the largest.\n",
    "\n",
    "The Quartiles, ordered data is divided into 4 equal parts \n",
    "\n",
    "For Percentile , ordered data is divided into 100 equal parts\n",
    "\n",
    "\n"
   ]
  },
  {
   "cell_type": "markdown",
   "id": "aee5b3af-94de-4049-b14d-6791e3f2c5a2",
   "metadata": {},
   "source": [
    "#### The inter Qurtile Range is the difference between the thired quartile (Q3) and the first Quartile(Q1)\n",
    "\n",
    "#### IQR = Q3 - Q1"
   ]
  },
  {
   "cell_type": "markdown",
   "id": "4ea4ac79-48fd-482a-ad5b-4f2a39c51b27",
   "metadata": {},
   "source": [
    "### Range\n",
    "\n",
    "The range is the difference between the largest and the smallest value in the data."
   ]
  },
  {
   "cell_type": "markdown",
   "id": "8ec6e8b9-7ad5-4ed9-99e4-21377ff4ce6d",
   "metadata": {},
   "source": [
    "### Standared Deviation\n",
    "\n",
    "The most common measure of spread is the standard deviation . The standard deviation measure how far the data deviates from the mean value. The standard deviation formula varies for population and sample. Both formulas are smiliar but not the same. \n",
    "\n",
    "Symbol used for Sample standard deviation - \"s\" (lowercase)\n",
    "\n",
    "Symbol uused for Population Standard deviation =  “ σ ” (Sigma , lower case) "
   ]
  },
  {
   "cell_type": "markdown",
   "id": "0383cbdf-eece-40c0-9eb3-743653c2df71",
   "metadata": {},
   "source": [
    "#### Steps to Find the Standard Deviation"
   ]
  },
  {
   "cell_type": "markdown",
   "id": "5f3eb1a4-1b9c-444e-87b5-a500b4742135",
   "metadata": {},
   "source": [
    "If x is a number, then the difference \" x - mean \" is its deviation. The deviations are used to calculate the standard deviation. \n",
    "\n",
    "Sample Standard Deviation, s = Square root of sample variance \n",
    "\n",
    "Sample Standard Deviation, s = Square root of   [Σ(x − x ¯ )2/ n-1]   where x ¯ is average and n is  no. of samples"
   ]
  },
  {
   "cell_type": "markdown",
   "id": "831c1012-5f9f-4f3b-a883-bcfc9210e44d",
   "metadata": {},
   "source": [
    "<div style=\"text-align:center;\">\r\n",
    "    <img src=\"https://editor.analyticsvidhya.com/uploads/80215Copy%20of%20Untitled%20(7).png\" alt=\"Standard Deviation\" width=\"400\">\r\n",
    "</div>\r\n",
    "\n"
   ]
  },
  {
   "cell_type": "code",
   "execution_count": null,
   "id": "bce8e38e-0000-46e3-b2c2-3a3fc4506a5d",
   "metadata": {},
   "outputs": [],
   "source": []
  }
 ],
 "metadata": {
  "kernelspec": {
   "display_name": "Python 3 (ipykernel)",
   "language": "python",
   "name": "python3"
  },
  "language_info": {
   "codemirror_mode": {
    "name": "ipython",
    "version": 3
   },
   "file_extension": ".py",
   "mimetype": "text/x-python",
   "name": "python",
   "nbconvert_exporter": "python",
   "pygments_lexer": "ipython3",
   "version": "3.9.18"
  }
 },
 "nbformat": 4,
 "nbformat_minor": 5
}
